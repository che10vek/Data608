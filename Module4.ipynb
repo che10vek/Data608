{
 "cells": [
  {
   "cell_type": "markdown",
   "metadata": {},
   "source": [
    "# Elina Azrilyan\n",
    "\n",
    "Data 608\n",
    "\n",
    "Module 4\n",
    "\n",
    "March 18, 2021\n"
   ]
  },
  {
   "cell_type": "code",
   "execution_count": 437,
   "metadata": {},
   "outputs": [],
   "source": [
    "import pandas as pd\n",
    "import numpy as np\n",
    "import dash_core_components as dcc\n",
    "import dash_html_components as html\n",
    "from dash.dependencies import Input, Output\n",
    "import plotly.express as px\n",
    "from jupyter_dash import JupyterDash\n",
    "import plotly.graph_objects as go"
   ]
  },
  {
   "cell_type": "code",
   "execution_count": 438,
   "metadata": {},
   "outputs": [
    {
     "data": {
      "text/html": [
       "<div>\n",
       "<style scoped>\n",
       "    .dataframe tbody tr th:only-of-type {\n",
       "        vertical-align: middle;\n",
       "    }\n",
       "\n",
       "    .dataframe tbody tr th {\n",
       "        vertical-align: top;\n",
       "    }\n",
       "\n",
       "    .dataframe thead th {\n",
       "        text-align: right;\n",
       "    }\n",
       "</style>\n",
       "<table border=\"1\" class=\"dataframe\">\n",
       "  <thead>\n",
       "    <tr style=\"text-align: right;\">\n",
       "      <th></th>\n",
       "      <th>count_tree_id</th>\n",
       "      <th>spc_common</th>\n",
       "    </tr>\n",
       "  </thead>\n",
       "  <tbody>\n",
       "    <tr>\n",
       "      <th>0</th>\n",
       "      <td>273</td>\n",
       "      <td>American beech</td>\n",
       "    </tr>\n",
       "    <tr>\n",
       "      <th>1</th>\n",
       "      <td>7975</td>\n",
       "      <td>American elm</td>\n",
       "    </tr>\n",
       "    <tr>\n",
       "      <th>2</th>\n",
       "      <td>1081</td>\n",
       "      <td>American hophornbeam</td>\n",
       "    </tr>\n",
       "    <tr>\n",
       "      <th>3</th>\n",
       "      <td>1517</td>\n",
       "      <td>American hornbeam</td>\n",
       "    </tr>\n",
       "    <tr>\n",
       "      <th>4</th>\n",
       "      <td>46</td>\n",
       "      <td>American larch</td>\n",
       "    </tr>\n",
       "  </tbody>\n",
       "</table>\n",
       "</div>"
      ],
      "text/plain": [
       "   count_tree_id            spc_common\n",
       "0            273        American beech\n",
       "1           7975          American elm\n",
       "2           1081  American hophornbeam\n",
       "3           1517     American hornbeam\n",
       "4             46        American larch"
      ]
     },
     "execution_count": 438,
     "metadata": {},
     "output_type": "execute_result"
    }
   ],
   "source": [
    "soql_url = ('https://data.cityofnewyork.us/resource/nwxe-4ae8.json?' +\\\n",
    "        '$select=spc_common,count(tree_id)' +\\\n",
    "        '&$group=spc_common').replace(' ', '%20')\n",
    "sps_trees = pd.read_json(soql_url)\n",
    "\n",
    "sps_trees.head()"
   ]
  },
  {
   "cell_type": "code",
   "execution_count": 439,
   "metadata": {},
   "outputs": [
    {
     "name": "stdout",
     "output_type": "stream",
     "text": [
      "Dash app running on http://127.0.0.1:8050/\n"
     ]
    }
   ],
   "source": [
    "external_stylesheets = ['https://codepen.io/chriddyp/pen/bWLwgP.css']\n",
    "\n",
    "app = JupyterDash(__name__, external_stylesheets=external_stylesheets)\n",
    "\n",
    "server = app.server\n",
    "\n",
    "app.layout = html.Div([\n",
    "    html.H2('Condition of Trees'),\n",
    "    dcc.Dropdown(\n",
    "        id='my-dropdown',\n",
    "        options=[\n",
    "            {'label': 'Queens', 'value': \"'Queens'\"},\n",
    "            {'label': 'Brooklyn', 'value': \"'Brooklyn'\"},\n",
    "            {'label': 'Manhattan', 'value': \"'Manhattan'\"},\n",
    "            {'label': 'Staten Island', 'value': \"'Staten Island'\"},\n",
    "            {'label': 'Bronx', 'value': \"'Bronx'\"},\n",
    "        ],\n",
    "        value = \"'Queens'\"\n",
    "    ),\n",
    "    dcc.Dropdown(\n",
    "        id='my-dropdown2',\n",
    "        options=[\n",
    "            {'label': i, 'value': i} for i in sps_trees.spc_common.iloc[0:132]\n",
    "        ],\n",
    "        value = \"green ash\"\n",
    "    ),\n",
    "    dcc.Dropdown(\n",
    "        id='my-dropdown3',\n",
    "        options=[\n",
    "            {'label': 'No Steward', 'value': \"'None'\"},\n",
    "            {'label': '1 or 2 Stewards', 'value': \"'1or2'\"},\n",
    "            {'label': '3 or 4 Stewards', 'value': \"'3or4'\"},\n",
    "            {'label': '4 or More Stewards', 'value': \"'4orMore'\"},\n",
    "        ],\n",
    "        value = \"'None'\"\n",
    "    ),\n",
    "    dcc.Graph(id='my-graph')\n",
    "])\n",
    "\n",
    "if __name__ == '__main__':\n",
    "    app.run_server(debug=True)"
   ]
  },
  {
   "cell_type": "code",
   "execution_count": 440,
   "metadata": {},
   "outputs": [],
   "source": [
    "@app.callback(Output('my-graph', 'figure'),\n",
    "              [Input('my-dropdown', 'value')],\n",
    "              [Input('my-dropdown2', 'value')],\n",
    "              [Input('my-dropdown3', 'value')])\n",
    "def update_graph(dd_value, dd2_value, dd3_value):\n",
    "    boro = dd_value\n",
    "    scs = dd2_value\n",
    "    stwd = dd3_value\n",
    "\n",
    "    soql_url = ('https://data.cityofnewyork.us/resource/nwxe-4ae8.json?' +\\\n",
    "        '$select=health,count(tree_id)' +\\\n",
    "        '&$where=spc_common='+\"'\"+scs +\"'\"+\\\n",
    "        'AND boroname='+boro +\\\n",
    "        'AND steward='+stwd +\\\n",
    "        '&$group=health').replace(' ', '%20')\n",
    "    soql_trees = pd.read_json(soql_url)\n",
    "\n",
    "    soql_trees\n",
    "    return {\n",
    "        'data': [{\n",
    "            'x': soql_trees.health,\n",
    "            'y': soql_trees.count_tree_id,\n",
    "            'type': 'bar'\n",
    "        }],\n",
    "        'layout': {\n",
    "            'margin': {\n",
    "                'l': 30,\n",
    "                'r': 20,\n",
    "                'b': 30,\n",
    "                't': 20\n",
    "            }\n",
    "        }\n",
    "    }\n",
    "\n",
    "# I realize that the \"Poor, Fair, Good\" are not always displaying in the right order - but after many hours of trying to figure it out - I was not able to do anything about it.\n",
    "    #soql_trees.health().reindex([\"Poor\", \"Fair\", \"Good\"])\n",
    "    #soql_trees\n",
    "    #soql_trees.count_tree_id.reindex([\"Poor\", \"Fair\", \"Good\"]).plot(kind=\"bar\")"
   ]
  },
  {
   "cell_type": "code",
   "execution_count": 441,
   "metadata": {
    "scrolled": false
   },
   "outputs": [
    {
     "data": {
      "text/html": [
       "\n",
       "        <iframe\n",
       "            width=\"100%\"\n",
       "            height=\"650\"\n",
       "            src=\"http://127.0.0.1:8050/\"\n",
       "            frameborder=\"0\"\n",
       "            allowfullscreen\n",
       "        ></iframe>\n",
       "        "
      ],
      "text/plain": [
       "<IPython.lib.display.IFrame at 0x11f8ff7f0>"
      ]
     },
     "metadata": {},
     "output_type": "display_data"
    }
   ],
   "source": [
    "app.run_server(mode=\"inline\")"
   ]
  },
  {
   "cell_type": "code",
   "execution_count": null,
   "metadata": {},
   "outputs": [],
   "source": []
  }
 ],
 "metadata": {
  "kernelspec": {
   "display_name": "Python 3",
   "language": "python",
   "name": "python3"
  },
  "language_info": {
   "codemirror_mode": {
    "name": "ipython",
    "version": 3
   },
   "file_extension": ".py",
   "mimetype": "text/x-python",
   "name": "python",
   "nbconvert_exporter": "python",
   "pygments_lexer": "ipython3",
   "version": "3.7.2"
  }
 },
 "nbformat": 4,
 "nbformat_minor": 2
}
